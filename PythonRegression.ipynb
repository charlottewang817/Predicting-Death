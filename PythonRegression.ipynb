{
 "cells": [
  {
   "cell_type": "markdown",
   "metadata": {},
   "source": [
    "# Regressions and Linear Models in Python"
   ]
  },
  {
   "cell_type": "code",
   "execution_count": 1,
   "metadata": {
    "collapsed": false
   },
   "outputs": [
    {
     "name": "stdout",
     "output_type": "stream",
     "text": [
      "Populating the interactive namespace from numpy and matplotlib\n"
     ]
    }
   ],
   "source": [
    "%pylab inline\n",
    "import pandas as pd"
   ]
  },
  {
   "cell_type": "markdown",
   "metadata": {},
   "source": [
    "## Set up data"
   ]
  },
  {
   "cell_type": "code",
   "execution_count": 2,
   "metadata": {
    "collapsed": true
   },
   "outputs": [],
   "source": [
    "# Read in data\n",
    "train = pd.read_csv(\"TrainingSet2.csv\")\n",
    "validate = pd.read_csv(\"ValidationSet2.csv\")"
   ]
  },
  {
   "cell_type": "code",
   "execution_count": 3,
   "metadata": {
    "collapsed": false
   },
   "outputs": [],
   "source": [
    "# Drop entity condition variables\n",
    "to_drop = [\"Unnamed: 0\", \"entity_condition_1\", \"entity_condition_2\", \"entity_condition_3\", \"entity_condition_4\"]\n",
    "train.drop(to_drop, axis=1, inplace=True)\n",
    "validate.drop(to_drop, axis=1, inplace=True)"
   ]
  },
  {
   "cell_type": "code",
   "execution_count": 4,
   "metadata": {
    "collapsed": false
   },
   "outputs": [
    {
     "data": {
      "text/html": [
       "<div>\n",
       "<table border=\"1\" class=\"dataframe\">\n",
       "  <thead>\n",
       "    <tr style=\"text-align: right;\">\n",
       "      <th></th>\n",
       "      <th>education</th>\n",
       "      <th>sex</th>\n",
       "      <th>age</th>\n",
       "      <th>pod</th>\n",
       "      <th>marital_status</th>\n",
       "      <th>race</th>\n",
       "      <th>hispanic</th>\n",
       "      <th>A41</th>\n",
       "      <th>C15</th>\n",
       "      <th>C16</th>\n",
       "      <th>...</th>\n",
       "      <th>R06</th>\n",
       "      <th>R09</th>\n",
       "      <th>R53</th>\n",
       "      <th>R54</th>\n",
       "      <th>R56</th>\n",
       "      <th>R57</th>\n",
       "      <th>R62</th>\n",
       "      <th>R64</th>\n",
       "      <th>R68</th>\n",
       "      <th>R99</th>\n",
       "    </tr>\n",
       "  </thead>\n",
       "  <tbody>\n",
       "    <tr>\n",
       "      <th>0</th>\n",
       "      <td>high school</td>\n",
       "      <td>F</td>\n",
       "      <td>91</td>\n",
       "      <td>Home</td>\n",
       "      <td>W</td>\n",
       "      <td>White</td>\n",
       "      <td>Non-Hispanic</td>\n",
       "      <td>0</td>\n",
       "      <td>0</td>\n",
       "      <td>0</td>\n",
       "      <td>...</td>\n",
       "      <td>0</td>\n",
       "      <td>0</td>\n",
       "      <td>0</td>\n",
       "      <td>0</td>\n",
       "      <td>0</td>\n",
       "      <td>0</td>\n",
       "      <td>0</td>\n",
       "      <td>0</td>\n",
       "      <td>0</td>\n",
       "      <td>0</td>\n",
       "    </tr>\n",
       "    <tr>\n",
       "      <th>1</th>\n",
       "      <td>high school</td>\n",
       "      <td>M</td>\n",
       "      <td>82</td>\n",
       "      <td>Home</td>\n",
       "      <td>M</td>\n",
       "      <td>White</td>\n",
       "      <td>Non-Hispanic</td>\n",
       "      <td>0</td>\n",
       "      <td>0</td>\n",
       "      <td>0</td>\n",
       "      <td>...</td>\n",
       "      <td>0</td>\n",
       "      <td>0</td>\n",
       "      <td>0</td>\n",
       "      <td>0</td>\n",
       "      <td>0</td>\n",
       "      <td>0</td>\n",
       "      <td>0</td>\n",
       "      <td>0</td>\n",
       "      <td>0</td>\n",
       "      <td>0</td>\n",
       "    </tr>\n",
       "    <tr>\n",
       "      <th>2</th>\n",
       "      <td>high school</td>\n",
       "      <td>F</td>\n",
       "      <td>89</td>\n",
       "      <td>Home</td>\n",
       "      <td>W</td>\n",
       "      <td>White</td>\n",
       "      <td>Non-Hispanic</td>\n",
       "      <td>0</td>\n",
       "      <td>0</td>\n",
       "      <td>0</td>\n",
       "      <td>...</td>\n",
       "      <td>0</td>\n",
       "      <td>0</td>\n",
       "      <td>0</td>\n",
       "      <td>0</td>\n",
       "      <td>0</td>\n",
       "      <td>0</td>\n",
       "      <td>0</td>\n",
       "      <td>0</td>\n",
       "      <td>0</td>\n",
       "      <td>0</td>\n",
       "    </tr>\n",
       "    <tr>\n",
       "      <th>3</th>\n",
       "      <td>Bachelor</td>\n",
       "      <td>F</td>\n",
       "      <td>84</td>\n",
       "      <td>Nursing Home</td>\n",
       "      <td>M</td>\n",
       "      <td>White</td>\n",
       "      <td>Non-Hispanic</td>\n",
       "      <td>0</td>\n",
       "      <td>0</td>\n",
       "      <td>0</td>\n",
       "      <td>...</td>\n",
       "      <td>0</td>\n",
       "      <td>0</td>\n",
       "      <td>0</td>\n",
       "      <td>0</td>\n",
       "      <td>0</td>\n",
       "      <td>0</td>\n",
       "      <td>0</td>\n",
       "      <td>0</td>\n",
       "      <td>0</td>\n",
       "      <td>0</td>\n",
       "    </tr>\n",
       "    <tr>\n",
       "      <th>4</th>\n",
       "      <td>high school</td>\n",
       "      <td>F</td>\n",
       "      <td>84</td>\n",
       "      <td>Nursing Home</td>\n",
       "      <td>M</td>\n",
       "      <td>White</td>\n",
       "      <td>Non-Hispanic</td>\n",
       "      <td>0</td>\n",
       "      <td>0</td>\n",
       "      <td>0</td>\n",
       "      <td>...</td>\n",
       "      <td>0</td>\n",
       "      <td>0</td>\n",
       "      <td>0</td>\n",
       "      <td>0</td>\n",
       "      <td>0</td>\n",
       "      <td>0</td>\n",
       "      <td>0</td>\n",
       "      <td>0</td>\n",
       "      <td>0</td>\n",
       "      <td>0</td>\n",
       "    </tr>\n",
       "  </tbody>\n",
       "</table>\n",
       "<p>5 rows × 110 columns</p>\n",
       "</div>"
      ],
      "text/plain": [
       "     education sex  age           pod marital_status   race      hispanic  \\\n",
       "0  high school   F   91          Home              W  White  Non-Hispanic   \n",
       "1  high school   M   82          Home              M  White  Non-Hispanic   \n",
       "2  high school   F   89          Home              W  White  Non-Hispanic   \n",
       "3     Bachelor   F   84  Nursing Home              M  White  Non-Hispanic   \n",
       "4  high school   F   84  Nursing Home              M  White  Non-Hispanic   \n",
       "\n",
       "   A41  C15  C16 ...   R06  R09  R53  R54  R56  R57  R62  R64  R68  R99  \n",
       "0    0    0    0 ...     0    0    0    0    0    0    0    0    0    0  \n",
       "1    0    0    0 ...     0    0    0    0    0    0    0    0    0    0  \n",
       "2    0    0    0 ...     0    0    0    0    0    0    0    0    0    0  \n",
       "3    0    0    0 ...     0    0    0    0    0    0    0    0    0    0  \n",
       "4    0    0    0 ...     0    0    0    0    0    0    0    0    0    0  \n",
       "\n",
       "[5 rows x 110 columns]"
      ]
     },
     "execution_count": 4,
     "metadata": {},
     "output_type": "execute_result"
    }
   ],
   "source": [
    "train.head()"
   ]
  },
  {
   "cell_type": "code",
   "execution_count": 4,
   "metadata": {
    "collapsed": false
   },
   "outputs": [],
   "source": [
    "# Make the dummies\n",
    "train = pd.concat([pd.get_dummies(train[\"education\"]), train.drop(\"education\", axis=1)], axis=1)\n",
    "train = pd.concat([pd.get_dummies(train[\"marital_status\"]), train.drop(\"marital_status\", axis=1)], axis=1)\n",
    "train = pd.concat([pd.get_dummies(train[\"race\"]), train.drop(\"race\", axis=1)], axis=1)\n",
    "train = pd.concat([pd.get_dummies(train[\"hispanic\"]), train.drop(\"hispanic\", axis=1)], axis=1)\n",
    "train[\"sex\"].replace(\"M\", 0, inplace=True)\n",
    "train[\"sex\"].replace(\"F\", 1, inplace=True)\n",
    "\n",
    "validate = pd.concat([pd.get_dummies(validate[\"education\"]), validate.drop(\"education\", axis=1)], axis=1)\n",
    "validate = pd.concat([pd.get_dummies(validate[\"marital_status\"]), validate.drop(\"marital_status\", axis=1)], axis=1)\n",
    "validate = pd.concat([pd.get_dummies(validate[\"race\"]), validate.drop(\"race\", axis=1)], axis=1)\n",
    "validate = pd.concat([pd.get_dummies(validate[\"hispanic\"]), validate.drop(\"hispanic\", axis=1)], axis=1)\n",
    "validate[\"sex\"].replace(\"M\", 0, inplace=True)\n",
    "validate[\"sex\"].replace(\"F\", 1, inplace=True)"
   ]
  },
  {
   "cell_type": "code",
   "execution_count": 5,
   "metadata": {
    "collapsed": true
   },
   "outputs": [],
   "source": [
    "train = train.drop(\"pod\", axis=1)\n",
    "validate = validate.drop(\"pod\", axis=1)"
   ]
  },
  {
   "cell_type": "code",
   "execution_count": 7,
   "metadata": {
    "collapsed": false
   },
   "outputs": [
    {
     "data": {
      "text/html": [
       "<div>\n",
       "<table border=\"1\" class=\"dataframe\">\n",
       "  <thead>\n",
       "    <tr style=\"text-align: right;\">\n",
       "      <th></th>\n",
       "      <th>C./S. American</th>\n",
       "      <th>Cuban</th>\n",
       "      <th>Mexican</th>\n",
       "      <th>Non-Hispanic</th>\n",
       "      <th>Other Hispanic</th>\n",
       "      <th>Puerto Rican</th>\n",
       "      <th>Japanese</th>\n",
       "      <th>American Indian</th>\n",
       "      <th>Asian Indian</th>\n",
       "      <th>Black</th>\n",
       "      <th>...</th>\n",
       "      <th>R06</th>\n",
       "      <th>R09</th>\n",
       "      <th>R53</th>\n",
       "      <th>R54</th>\n",
       "      <th>R56</th>\n",
       "      <th>R57</th>\n",
       "      <th>R62</th>\n",
       "      <th>R64</th>\n",
       "      <th>R68</th>\n",
       "      <th>R99</th>\n",
       "    </tr>\n",
       "  </thead>\n",
       "  <tbody>\n",
       "    <tr>\n",
       "      <th>0</th>\n",
       "      <td>0</td>\n",
       "      <td>0</td>\n",
       "      <td>0</td>\n",
       "      <td>1</td>\n",
       "      <td>0</td>\n",
       "      <td>0</td>\n",
       "      <td>0</td>\n",
       "      <td>0</td>\n",
       "      <td>0</td>\n",
       "      <td>0</td>\n",
       "      <td>...</td>\n",
       "      <td>0</td>\n",
       "      <td>0</td>\n",
       "      <td>0</td>\n",
       "      <td>0</td>\n",
       "      <td>0</td>\n",
       "      <td>0</td>\n",
       "      <td>0</td>\n",
       "      <td>0</td>\n",
       "      <td>0</td>\n",
       "      <td>0</td>\n",
       "    </tr>\n",
       "    <tr>\n",
       "      <th>1</th>\n",
       "      <td>0</td>\n",
       "      <td>0</td>\n",
       "      <td>0</td>\n",
       "      <td>1</td>\n",
       "      <td>0</td>\n",
       "      <td>0</td>\n",
       "      <td>0</td>\n",
       "      <td>0</td>\n",
       "      <td>0</td>\n",
       "      <td>0</td>\n",
       "      <td>...</td>\n",
       "      <td>0</td>\n",
       "      <td>0</td>\n",
       "      <td>0</td>\n",
       "      <td>0</td>\n",
       "      <td>0</td>\n",
       "      <td>0</td>\n",
       "      <td>0</td>\n",
       "      <td>0</td>\n",
       "      <td>0</td>\n",
       "      <td>0</td>\n",
       "    </tr>\n",
       "    <tr>\n",
       "      <th>2</th>\n",
       "      <td>0</td>\n",
       "      <td>0</td>\n",
       "      <td>0</td>\n",
       "      <td>1</td>\n",
       "      <td>0</td>\n",
       "      <td>0</td>\n",
       "      <td>0</td>\n",
       "      <td>0</td>\n",
       "      <td>0</td>\n",
       "      <td>0</td>\n",
       "      <td>...</td>\n",
       "      <td>0</td>\n",
       "      <td>0</td>\n",
       "      <td>0</td>\n",
       "      <td>0</td>\n",
       "      <td>0</td>\n",
       "      <td>0</td>\n",
       "      <td>0</td>\n",
       "      <td>0</td>\n",
       "      <td>0</td>\n",
       "      <td>0</td>\n",
       "    </tr>\n",
       "    <tr>\n",
       "      <th>3</th>\n",
       "      <td>0</td>\n",
       "      <td>0</td>\n",
       "      <td>0</td>\n",
       "      <td>1</td>\n",
       "      <td>0</td>\n",
       "      <td>0</td>\n",
       "      <td>0</td>\n",
       "      <td>0</td>\n",
       "      <td>0</td>\n",
       "      <td>0</td>\n",
       "      <td>...</td>\n",
       "      <td>0</td>\n",
       "      <td>0</td>\n",
       "      <td>0</td>\n",
       "      <td>0</td>\n",
       "      <td>0</td>\n",
       "      <td>0</td>\n",
       "      <td>0</td>\n",
       "      <td>0</td>\n",
       "      <td>0</td>\n",
       "      <td>0</td>\n",
       "    </tr>\n",
       "    <tr>\n",
       "      <th>4</th>\n",
       "      <td>0</td>\n",
       "      <td>0</td>\n",
       "      <td>0</td>\n",
       "      <td>1</td>\n",
       "      <td>0</td>\n",
       "      <td>0</td>\n",
       "      <td>0</td>\n",
       "      <td>0</td>\n",
       "      <td>0</td>\n",
       "      <td>0</td>\n",
       "      <td>...</td>\n",
       "      <td>0</td>\n",
       "      <td>0</td>\n",
       "      <td>0</td>\n",
       "      <td>0</td>\n",
       "      <td>0</td>\n",
       "      <td>0</td>\n",
       "      <td>0</td>\n",
       "      <td>0</td>\n",
       "      <td>0</td>\n",
       "      <td>0</td>\n",
       "    </tr>\n",
       "  </tbody>\n",
       "</table>\n",
       "<p>5 rows × 136 columns</p>\n",
       "</div>"
      ],
      "text/plain": [
       "   C./S. American  Cuban  Mexican  Non-Hispanic  Other Hispanic  Puerto Rican  \\\n",
       "0               0      0        0             1               0             0   \n",
       "1               0      0        0             1               0             0   \n",
       "2               0      0        0             1               0             0   \n",
       "3               0      0        0             1               0             0   \n",
       "4               0      0        0             1               0             0   \n",
       "\n",
       "    Japanese  American Indian  Asian Indian  Black ...   R06  R09  R53  R54  \\\n",
       "0          0                0             0      0 ...     0    0    0    0   \n",
       "1          0                0             0      0 ...     0    0    0    0   \n",
       "2          0                0             0      0 ...     0    0    0    0   \n",
       "3          0                0             0      0 ...     0    0    0    0   \n",
       "4          0                0             0      0 ...     0    0    0    0   \n",
       "\n",
       "   R56  R57  R62  R64  R68  R99  \n",
       "0    0    0    0    0    0    0  \n",
       "1    0    0    0    0    0    0  \n",
       "2    0    0    0    0    0    0  \n",
       "3    0    0    0    0    0    0  \n",
       "4    0    0    0    0    0    0  \n",
       "\n",
       "[5 rows x 136 columns]"
      ]
     },
     "execution_count": 7,
     "metadata": {},
     "output_type": "execute_result"
    }
   ],
   "source": [
    "train.head()"
   ]
  },
  {
   "cell_type": "markdown",
   "metadata": {},
   "source": [
    "#### Now add in the interaction terms"
   ]
  },
  {
   "cell_type": "markdown",
   "metadata": {},
   "source": [
    "Column 33 is the first diease column, then all the way to the end. Column 32 is age. Column 19 starts marital status, 22 ends marital status"
   ]
  },
  {
   "cell_type": "code",
   "execution_count": 6,
   "metadata": {
    "collapsed": false
   },
   "outputs": [],
   "source": [
    "# Columns we want to interact\n",
    "relationship_cols = list(train.columns[19:23])\n",
    "disease_cols = list(train.columns[33:]) "
   ]
  },
  {
   "cell_type": "code",
   "execution_count": 7,
   "metadata": {
    "collapsed": false
   },
   "outputs": [
    {
     "name": "stdout",
     "output_type": "stream",
     "text": [
      "tranforming feature: 50\n",
      "tranforming feature: 100\n",
      "tranforming feature: 150\n",
      "tranforming feature: 200\n",
      "tranforming feature: 250\n",
      "tranforming feature: 300\n",
      "tranforming feature: 350\n",
      "tranforming feature: 400\n"
     ]
    }
   ],
   "source": [
    "# Make the interaction terms\n",
    "i = 1\n",
    "for rcol in relationship_cols:\n",
    "    for dcol in disease_cols:\n",
    "        name = \"Feat_\" + str(i)\n",
    "        train[name] = train[rcol]*train[dcol]\n",
    "        validate[name] = validate[rcol]*validate[dcol]\n",
    "        i += 1\n",
    "        if i%50 == 0:\n",
    "            print \"tranforming feature:\", i"
   ]
  },
  {
   "cell_type": "markdown",
   "metadata": {},
   "source": [
    "## Lasso Model"
   ]
  },
  {
   "cell_type": "code",
   "execution_count": 8,
   "metadata": {
    "collapsed": true
   },
   "outputs": [],
   "source": [
    "from sklearn import linear_model\n",
    "from sklearn.preprocessing import StandardScaler"
   ]
  },
  {
   "cell_type": "code",
   "execution_count": 9,
   "metadata": {
    "collapsed": false
   },
   "outputs": [],
   "source": [
    "# Scale the data (trainig)\n",
    "scaler = StandardScaler()\n",
    "scaler.fit(train.drop(\"age\", axis=1))\n",
    "sdat = scaler.transform(train.drop(\"age\", axis=1))"
   ]
  },
  {
   "cell_type": "code",
   "execution_count": 10,
   "metadata": {
    "collapsed": true
   },
   "outputs": [],
   "source": [
    "# Scale the validation set\n",
    "scaler = StandardScaler()\n",
    "scaler.fit(validate.drop(\"age\", axis=1))\n",
    "vdat = scaler.transform(validate.drop(\"age\", axis=1))"
   ]
  },
  {
   "cell_type": "code",
   "execution_count": 11,
   "metadata": {
    "collapsed": true
   },
   "outputs": [],
   "source": [
    "VTruth = validate[\"age\"]"
   ]
  },
  {
   "cell_type": "code",
   "execution_count": 12,
   "metadata": {
    "collapsed": false
   },
   "outputs": [],
   "source": [
    "n = train.shape[0]"
   ]
  },
  {
   "cell_type": "code",
   "execution_count": 87,
   "metadata": {
    "collapsed": false
   },
   "outputs": [
    {
     "data": {
      "text/plain": [
       "139"
      ]
     },
     "execution_count": 87,
     "metadata": {},
     "output_type": "execute_result"
    }
   ],
   "source": [
    "(n/10)/train.shape[1]"
   ]
  },
  {
   "cell_type": "markdown",
   "metadata": {},
   "source": [
    "Now we can cross validate on the tuning parameter:"
   ]
  },
  {
   "cell_type": "code",
   "execution_count": 110,
   "metadata": {
    "collapsed": false
   },
   "outputs": [
    {
     "name": "stdout",
     "output_type": "stream",
     "text": [
      "Fitting with alpha = 1e-05\n",
      "Fitting with alpha = 6e-05\n",
      "Fitting with alpha = 0.00011\n",
      "Fitting with alpha = 0.00016\n",
      "Fitting with alpha = 0.00021\n",
      "Fitting with alpha = 0.00026\n",
      "Fitting with alpha = 0.00031\n",
      "Fitting with alpha = 0.00036\n",
      "Fitting with alpha = 0.00041\n",
      "Fitting with alpha = 0.00046\n",
      "Fitting with alpha = 0.00051\n",
      "Fitting with alpha = 0.00056\n",
      "Fitting with alpha = 0.00061\n",
      "Fitting with alpha = 0.00066\n",
      "Fitting with alpha = 0.00071\n",
      "Fitting with alpha = 0.00076\n",
      "Fitting with alpha = 0.00081\n",
      "Fitting with alpha = 0.00086\n",
      "Fitting with alpha = 0.00091\n",
      "Fitting with alpha = 0.00096\n",
      "Best alpha is: 1e-05\n"
     ]
    }
   ],
   "source": [
    "cv_errors = []\n",
    "min_error = np.Inf\n",
    "best_alpha = 0\n",
    "#alphas = [.01, .03, .05, .07, .09, .1, .5, 1, 1.5, 2, 3, 4, 6, 9, 10, 15, 20, 25, 30, 50, 70, 100]\n",
    "#alphas = [.006,.008, .009, .01, .011, .013, .015, .017, .02, .022]\n",
    "#alphas = [.0001, .0005, .0009, .001, .005, .009, .01, .011, .013, .015, .017, .02, .022, .025, .029, .033, .04]\n",
    "alphas = arange(0.00001,.001,.00005)\n",
    "for a in alphas:\n",
    "    print \"Fitting with alpha =\", a\n",
    "    # fit the lasso\n",
    "    l1 = linear_model.Lasso(alpha=a, max_iter=5000) #had a convergence warning\n",
    "    l1.fit(sdat[1:int(n/10)], train[\"age\"][1:int(n/10)])\n",
    "    \n",
    "    predictions = l1.predict(vdat)\n",
    "    error = np.mean((predictions - VTruth)**2)\n",
    "    cv_errors.append(error)\n",
    "    \n",
    "    if error < min_error:\n",
    "        best_alpha = a\n",
    "        min_error = error\n",
    "        \n",
    "print \"Best alpha is:\", best_alpha"
   ]
  },
  {
   "cell_type": "code",
   "execution_count": 111,
   "metadata": {
    "collapsed": false
   },
   "outputs": [
    {
     "data": {
      "text/plain": [
       "109.64156049221874"
      ]
     },
     "execution_count": 111,
     "metadata": {},
     "output_type": "execute_result"
    }
   ],
   "source": [
    "min_error"
   ]
  },
  {
   "cell_type": "code",
   "execution_count": 113,
   "metadata": {
    "collapsed": false
   },
   "outputs": [
    {
     "data": {
      "image/png": "[encoded data removed]",
      "text/plain": [
       "<matplotlib.figure.Figure at 0x11a434690>"
      ]
     },
     "metadata": {},
     "output_type": "display_data"
    }
   ],
   "source": [
    "plt.plot(alphas, cv_errors)\n",
    "plt.xlabel(\"Tuning Parameter\")\n",
    "plt.ylabel(\"Validation Error\")\n",
    "plt.title(\"Tuning Parameter and CV Error\")\n",
    "plt.grid()\n",
    "#plt.savefig(\"Lasso_CV2.png\")\n",
    "plt.show()"
   ]
  },
  {
   "cell_type": "markdown",
   "metadata": {},
   "source": [
    "I am getting that the optimal tuning parameter is 0.013!!"
   ]
  },
  {
   "cell_type": "code",
   "execution_count": 108,
   "metadata": {
    "collapsed": false
   },
   "outputs": [
    {
     "data": {
      "text/plain": [
       "20"
      ]
     },
     "execution_count": 108,
     "metadata": {},
     "output_type": "execute_result"
    }
   ],
   "source": [
    "len(arange(0.00001,.001,.00005))"
   ]
  },
  {
   "cell_type": "code",
   "execution_count": 104,
   "metadata": {
    "collapsed": true
   },
   "outputs": [
    {
     "name": "stdout",
     "output_type": "stream",
     "text": [
      "1e-05\n",
      "6e-05\n",
      "0.00011\n",
      "0.00016\n",
      "0.00021\n",
      "0.00026\n",
      "0.00031\n",
      "0.00036\n",
      "0.00041\n",
      "0.00046\n",
      "0.00051\n",
      "0.00056\n",
      "0.00061\n",
      "0.00066\n",
      "0.00071\n",
      "0.00076\n",
      "0.00081\n",
      "0.00086\n",
      "0.00091\n",
      "0.00096\n",
      "0.00101\n",
      "0.00106\n",
      "0.00111\n",
      "0.00116\n",
      "0.00121\n",
      "0.00126\n",
      "0.00131\n",
      "0.00136\n",
      "0.00141\n",
      "0.00146\n",
      "0.00151\n",
      "0.00156\n",
      "0.00161\n",
      "0.00166\n",
      "0.00171\n",
      "0.00176\n",
      "0.00181\n",
      "0.00186\n",
      "0.00191\n",
      "0.00196\n",
      "0.00201\n",
      "0.00206\n",
      "0.00211\n",
      "0.00216\n",
      "0.00221\n",
      "0.00226\n",
      "0.00231\n",
      "0.00236\n",
      "0.00241\n",
      "0.00246\n",
      "0.00251\n",
      "0.00256\n",
      "0.00261\n",
      "0.00266\n",
      "0.00271\n",
      "0.00276\n",
      "0.00281\n",
      "0.00286\n",
      "0.00291\n",
      "0.00296\n",
      "0.00301\n",
      "0.00306\n",
      "0.00311\n",
      "0.00316\n",
      "0.00321\n",
      "0.00326\n",
      "0.00331\n",
      "0.00336\n",
      "0.00341\n",
      "0.00346\n",
      "0.00351\n",
      "0.00356\n",
      "0.00361\n",
      "0.00366\n",
      "0.00371\n",
      "0.00376\n",
      "0.00381\n",
      "0.00386\n",
      "0.00391\n",
      "0.00396\n",
      "0.00401\n",
      "0.00406\n",
      "0.00411\n",
      "0.00416\n",
      "0.00421\n",
      "0.00426\n",
      "0.00431\n",
      "0.00436\n",
      "0.00441\n",
      "0.00446\n",
      "0.00451\n",
      "0.00456\n",
      "0.00461\n",
      "0.00466\n",
      "0.00471\n",
      "0.00476\n",
      "0.00481\n",
      "0.00486\n",
      "0.00491\n",
      "0.00496\n",
      "0.00501\n",
      "0.00506\n",
      "0.00511\n",
      "0.00516\n",
      "0.00521\n",
      "0.00526\n",
      "0.00531\n",
      "0.00536\n",
      "0.00541\n",
      "0.00546\n",
      "0.00551\n",
      "0.00556\n",
      "0.00561\n",
      "0.00566\n",
      "0.00571\n",
      "0.00576\n",
      "0.00581\n",
      "0.00586\n",
      "0.00591\n",
      "0.00596\n",
      "0.00601\n",
      "0.00606\n",
      "0.00611\n",
      "0.00616\n",
      "0.00621\n",
      "0.00626\n",
      "0.00631\n",
      "0.00636\n",
      "0.00641\n",
      "0.00646\n",
      "0.00651\n",
      "0.00656\n",
      "0.00661\n",
      "0.00666\n",
      "0.00671\n",
      "0.00676\n",
      "0.00681\n",
      "0.00686\n",
      "0.00691\n",
      "0.00696\n",
      "0.00701\n",
      "0.00706\n",
      "0.00711\n",
      "0.00716\n",
      "0.00721\n",
      "0.00726\n",
      "0.00731\n",
      "0.00736\n",
      "0.00741\n",
      "0.00746\n",
      "0.00751\n",
      "0.00756\n",
      "0.00761\n",
      "0.00766\n",
      "0.00771\n",
      "0.00776\n",
      "0.00781\n",
      "0.00786\n",
      "0.00791\n",
      "0.00796\n",
      "0.00801\n",
      "0.00806\n",
      "0.00811\n",
      "0.00816\n",
      "0.00821\n",
      "0.00826\n",
      "0.00831\n",
      "0.00836\n",
      "0.00841\n",
      "0.00846\n",
      "0.00851\n",
      "0.00856\n",
      "0.00861\n",
      "0.00866\n",
      "0.00871\n",
      "0.00876\n",
      "0.00881\n",
      "0.00886\n",
      "0.00891\n",
      "0.00896\n",
      "0.00901\n",
      "0.00906\n",
      "0.00911\n",
      "0.00916\n",
      "0.00921\n",
      "0.00926\n",
      "0.00931\n",
      "0.00936\n",
      "0.00941\n",
      "0.00946\n",
      "0.00951\n",
      "0.00956\n",
      "0.00961\n",
      "0.00966\n",
      "0.00971\n",
      "0.00976\n",
      "0.00981\n",
      "0.00986\n",
      "0.00991\n",
      "0.00996\n"
     ]
    }
   ],
   "source": [
    "for i in arange(0.00001,.01,.00005):\n",
    "    print i"
   ]
  },
  {
   "cell_type": "markdown",
   "metadata": {},
   "source": [
    "### Set up test set"
   ]
  },
  {
   "cell_type": "code",
   "execution_count": 13,
   "metadata": {
    "collapsed": true
   },
   "outputs": [],
   "source": [
    "# Read in data\n",
    "test = pd.read_csv(\"TestSet2.csv\")"
   ]
  },
  {
   "cell_type": "code",
   "execution_count": 14,
   "metadata": {
    "collapsed": true
   },
   "outputs": [],
   "source": [
    "test.drop(to_drop, axis=1, inplace=True)"
   ]
  },
  {
   "cell_type": "code",
   "execution_count": 15,
   "metadata": {
    "collapsed": true
   },
   "outputs": [],
   "source": [
    "# Make the dummies\n",
    "test = pd.concat([pd.get_dummies(test[\"education\"]), test.drop(\"education\", axis=1)], axis=1)\n",
    "test = pd.concat([pd.get_dummies(test[\"marital_status\"]), test.drop(\"marital_status\", axis=1)], axis=1)\n",
    "test = pd.concat([pd.get_dummies(test[\"race\"]), test.drop(\"race\", axis=1)], axis=1)\n",
    "test = pd.concat([pd.get_dummies(test[\"hispanic\"]), test.drop(\"hispanic\", axis=1)], axis=1)\n",
    "test[\"sex\"].replace(\"M\", 0, inplace=True)\n",
    "test[\"sex\"].replace(\"F\", 1, inplace=True)"
   ]
  },
  {
   "cell_type": "code",
   "execution_count": 16,
   "metadata": {
    "collapsed": true
   },
   "outputs": [],
   "source": [
    "test = test.drop(\"pod\", axis=1)"
   ]
  },
  {
   "cell_type": "code",
   "execution_count": 17,
   "metadata": {
    "collapsed": false
   },
   "outputs": [
    {
     "name": "stdout",
     "output_type": "stream",
     "text": [
      "tranforming feature: 50\n",
      "tranforming feature: 100\n",
      "tranforming feature: 150\n",
      "tranforming feature: 200\n",
      "tranforming feature: 250\n",
      "tranforming feature: 300\n",
      "tranforming feature: 350\n",
      "tranforming feature: 400\n"
     ]
    }
   ],
   "source": [
    "# Make the interaction terms\n",
    "i = 1\n",
    "for rcol in relationship_cols:\n",
    "    for dcol in disease_cols:\n",
    "        name = \"Feat_\" + str(i)\n",
    "        test[name] = test[rcol]*test[dcol]\n",
    "        i += 1\n",
    "        if i%50 == 0:\n",
    "            print \"tranforming feature:\", i"
   ]
  },
  {
   "cell_type": "code",
   "execution_count": 18,
   "metadata": {
    "collapsed": true
   },
   "outputs": [],
   "source": [
    "# Scale the data (test)\n",
    "scaler = StandardScaler()\n",
    "scaler.fit(test.drop(\"age\", axis=1))\n",
    "tdat = scaler.transform(test.drop(\"age\", axis=1))"
   ]
  },
  {
   "cell_type": "markdown",
   "metadata": {},
   "source": [
    "## Fit Final Lasso Model\n",
    "#### $\\alpha = 0.013$"
   ]
  },
  {
   "cell_type": "code",
   "execution_count": 117,
   "metadata": {
    "collapsed": false
   },
   "outputs": [
    {
     "data": {
      "text/plain": [
       "Lasso(alpha=1e-05, copy_X=True, fit_intercept=True, max_iter=1000,\n",
       "   normalize=False, positive=False, precompute=False, random_state=None,\n",
       "   selection='cyclic', tol=0.0001, warm_start=False)"
      ]
     },
     "execution_count": 117,
     "metadata": {},
     "output_type": "execute_result"
    }
   ],
   "source": [
    "# Fit the model\n",
    "l1 = linear_model.Lasso(alpha=0.00001)\n",
    "l1.fit(sdat, train[\"age\"])"
   ]
  },
  {
   "cell_type": "code",
   "execution_count": 118,
   "metadata": {
    "collapsed": true
   },
   "outputs": [],
   "source": [
    "# Get the predictions\n",
    "predictions = l1.predict(tdat)"
   ]
  },
  {
   "cell_type": "code",
   "execution_count": 120,
   "metadata": {
    "collapsed": false
   },
   "outputs": [
    {
     "name": "stdout",
     "output_type": "stream",
     "text": [
      "MSE: 113.448341835\n",
      "MAE: 8.19066276678\n",
      "25th percentile of errors: -6.25612536202\n",
      "75th percentile of errors: 6.88281231285\n"
     ]
    }
   ],
   "source": [
    "# Error metrics\n",
    "truth = test[\"age\"]\n",
    "errors = (predictions-truth)\n",
    "mse_lasso = np.mean( (errors)**2 )\n",
    "mae_lasso = np.mean( np.abs(errors) )\n",
    "lasso_25 = np.percentile( errors, 25)\n",
    "lasso_75 = np.percentile( errors, 75)\n",
    "print \"MSE:\", mse_lasso\n",
    "print \"MAE:\", mae_lasso\n",
    "print \"25th percentile of errors:\", lasso_25\n",
    "print \"75th percentile of errors:\", lasso_75"
   ]
  },
  {
   "cell_type": "code",
   "execution_count": 121,
   "metadata": {
    "collapsed": false
   },
   "outputs": [
    {
     "data": {
      "image/png": "[encoded data removed]",
      "text/plain": [
       "<matplotlib.figure.Figure at 0x11a450090>"
      ]
     },
     "metadata": {},
     "output_type": "display_data"
    }
   ],
   "source": [
    "# Error histogram\n",
    "plt.hist(errors, bins=50)\n",
    "plt.title(\"Lasso Error Histogram\")\n",
    "plt.xlabel(\"Error\")\n",
    "plt.ylabel(\"Count\")\n",
    "plt.grid()\n",
    "#plt.savefig(\"lasso_errors.png\")\n",
    "plt.show()"
   ]
  },
  {
   "cell_type": "code",
   "execution_count": 30,
   "metadata": {
    "collapsed": false
   },
   "outputs": [],
   "source": [
    "# Take a look at the most important coefficients\n",
    "coeffs = l1.coef_"
   ]
  },
  {
   "cell_type": "code",
   "execution_count": 34,
   "metadata": {
    "collapsed": false
   },
   "outputs": [
    {
     "name": "stdout",
     "output_type": "stream",
     "text": [
      "Forced 172 coefficients to zero of 547\n"
     ]
    }
   ],
   "source": [
    "# Figure out how many are zero\n",
    "print \"Forced\", (coeffs == 0).sum(), \"coefficients to zero of\", len(coeffs)"
   ]
  },
  {
   "cell_type": "code",
   "execution_count": 50,
   "metadata": {
    "collapsed": false
   },
   "outputs": [],
   "source": [
    "# get better names for coeffs\n",
    "good_names = []\n",
    "for rcol in relationship_cols:\n",
    "    for dcol in disease_cols:\n",
    "        name = str(rcol) + \"_\" + str(dcol)\n",
    "        good_names.append(name)\n",
    "        \n",
    "col_names = list(train.columns)[0:len(coeffs) - len(good_names)+1] + good_names "
   ]
  },
  {
   "cell_type": "code",
   "execution_count": 55,
   "metadata": {
    "collapsed": false
   },
   "outputs": [
    {
     "data": {
      "text/plain": [
       "[('W', 5.7559865249562616),\n",
       " ('<8th grade', 1.0641239256425172),\n",
       " ('S_F01', 0.77885121055301287),\n",
       " ('White', 0.75389418046003231),\n",
       " ('S_G20', 0.72895015507295213),\n",
       " ('F01', 0.71661535396047815),\n",
       " ('M_G20', 0.68513392087945146),\n",
       " ('G20', 0.65834910174635086),\n",
       " ('I49', 0.63909572508972246),\n",
       " ('D_G20', 0.62359635390475132),\n",
       " ('M_F01', 0.59959342749255418),\n",
       " ('D_F01', 0.58579819837347569),\n",
       " ('R53', 0.49650084821945084),\n",
       " ('M_I49', 0.48674913515052914),\n",
       " (' Japanese', 0.45934426329847167),\n",
       " ('Doctorate/professional', 0.4475101736520285),\n",
       " ('Non-Hispanic', 0.40510422826417941),\n",
       " ('sex', 0.39651989269377819),\n",
       " ('M_G12', 0.34293346198655716),\n",
       " ('M_I47', 0.33451748626672273),\n",
       " ('S_I49', 0.33057256643422783),\n",
       " ('M_C56', 0.31791391162886834),\n",
       " ('J15', 0.31048282058350452),\n",
       " ('Masters', 0.30997400500393235),\n",
       " ('S_I47', 0.29980330870403965),\n",
       " ('S_J43', 0.27927645284895858),\n",
       " ('Cuban', 0.27613072573543673),\n",
       " ('Chinese', 0.26812078399680717),\n",
       " ('R57', 0.26288516710988202),\n",
       " ('Bachelor', 0.26181729457296415),\n",
       " ('I47', 0.26179967776763813),\n",
       " ('D_I49', 0.26108529280044968),\n",
       " ('D_I47', 0.24749037499505522),\n",
       " ('S_R53', 0.24613072864280733),\n",
       " ('I64', 0.24352568699653093),\n",
       " ('M_I24', 0.23660464985283797),\n",
       " ('E88', 0.23163803790089035),\n",
       " ('M_I63', 0.22781403314329185),\n",
       " ('I69', 0.22700673854175665),\n",
       " ('S_G12', 0.22112239157042302),\n",
       " ('G93', 0.22035792716245001),\n",
       " ('M_J44', 0.214683101884178),\n",
       " ('I27', 0.21319484823574633),\n",
       " ('S_I24', 0.20945692280853934),\n",
       " ('S_E88', 0.20674991342352372),\n",
       " ('G30', 0.20187607595381926),\n",
       " ('S_C56', 0.20021816268208836),\n",
       " ('S_I63', 0.19925125340252492),\n",
       " ('S_R57', 0.19619031430272657),\n",
       " ('M_R53', 0.19545682785867799),\n",
       " ('M_I27', 0.19238170734422438),\n",
       " ('M_J15', 0.191145485340489),\n",
       " ('M_E88', 0.1896261359824053),\n",
       " ('J44', 0.18669916297479547),\n",
       " ('N19', 0.1735855946698987),\n",
       " ('M_N17', 0.17196158672770204),\n",
       " ('D_E88', 0.16860419900284301),\n",
       " ('D_R53', 0.16529628005904545),\n",
       " ('D_I63', 0.16402366885481021),\n",
       " ('S_G30', 0.16370603025852018),\n",
       " ('D_G12', 0.16327458370776382),\n",
       " ('M_J43', 0.16164541976653485),\n",
       " ('M_C95', 0.15188542650303749),\n",
       " ('S_I64', 0.14949640305349218),\n",
       " ('M_C64', 0.14763603192138838),\n",
       " ('R09', 0.14439814584131089),\n",
       " ('M_N19', 0.13890065099444887),\n",
       " ('S_N19', 0.13869826552337736),\n",
       " ('M_I67', 0.13597044109786055),\n",
       " ('C56', 0.13496889952962762),\n",
       " ('S_I27', 0.13194130354105227),\n",
       " ('I24', 0.13130477904566895),\n",
       " ('S_C32', 0.13030713205271341),\n",
       " ('D_C56', 0.12963602458264442),\n",
       " ('D_I64', 0.12680313241108743),\n",
       " ('S_I69', 0.12674110734915658),\n",
       " ('D_G30', 0.12558764982409146),\n",
       " ('M_J81', 0.12148550674815731),\n",
       " ('D_N19', 0.12091980761748503),\n",
       " ('M_I64', 0.11684394617023248),\n",
       " ('D_I67', 0.11414048555088395),\n",
       " ('D_R57', 0.11382343298015782),\n",
       " ('M_R57', 0.10891655553811619),\n",
       " ('S_C22', 0.10709494678937344),\n",
       " ('S_K92', 0.10491182111732086),\n",
       " ('S_G93', 0.10239244940950773),\n",
       " ('S_I67', 0.10084063501808174),\n",
       " ('R62', 0.098878980092574564),\n",
       " ('D_I27', 0.09750333736766309),\n",
       " ('D_J43', 0.095580952622045065),\n",
       " ('K55', 0.093166652260240568),\n",
       " ('E46', 0.092881149766535942),\n",
       " ('D_C95', 0.085564077852440662),\n",
       " ('M_I69', 0.084632532840397026),\n",
       " ('M_K92', 0.084374365602656723),\n",
       " ('I67', 0.084326600462290138),\n",
       " ('S_I71', 0.084274157698950247),\n",
       " ('I63', 0.083590069621935492),\n",
       " ('E14', 0.079168989515276317),\n",
       " ('S_J15', 0.077634133565571806),\n",
       " ('D_J15', 0.071408121055058574),\n",
       " ('D_N17', 0.070511079872782517),\n",
       " ('D_J44', 0.069829975373432274),\n",
       " ('S_R09', 0.068644344825270404),\n",
       " ('D_I69', 0.066917584045919742),\n",
       " ('S_J81', 0.066515109591207836),\n",
       " ('S_I11', 0.065894955179451806),\n",
       " ('S_J44', 0.064423508413272587),\n",
       " ('S_C95', 0.063353579172359453),\n",
       " ('S_C20', 0.061625163657466293),\n",
       " ('M_G30', 0.060444615117014572),\n",
       " ('M_N18', 0.058437091354819365),\n",
       " ('D_I45', 0.058433091460300832),\n",
       " ('D_K92', 0.05719051788894447),\n",
       " ('S_C64', 0.052932026829514214),\n",
       " ('D_G93', 0.052380988698348459),\n",
       " ('S_I45', 0.048791023681787608),\n",
       " ('Korean', 0.047810318385427666),\n",
       " ('S_C85', 0.046395997911527778),\n",
       " ('R06', 0.044803633207510692),\n",
       " ('S_I95', 0.039140707918220635),\n",
       " ('D_C64', 0.037634380453247358),\n",
       " ('W_I51', 0.037408637769978645),\n",
       " ('D_E46', 0.036741961819748162),\n",
       " ('D_R09', 0.036351680206186121),\n",
       " ('S_A41', 0.035849118100130001),\n",
       " ('D_C90', 0.034388090356639055),\n",
       " ('M_I95', 0.033335017642224837),\n",
       " ('D_R06', 0.0328144990405973),\n",
       " ('S_R62', 0.032123801627965902),\n",
       " ('D_J81', 0.031484181563541554),\n",
       " ('M_K55', 0.030739444014464466),\n",
       " ('D_I71', 0.030611509592722515),\n",
       " ('M_I71', 0.029886990905195483),\n",
       " ('S_N17', 0.029685869664816188),\n",
       " ('M_E46', 0.027567406576203962),\n",
       " ('S_K72', 0.025046523443598097),\n",
       " ('S_C55', 0.023842127113831987),\n",
       " ('M_I62', 0.022644194012711248),\n",
       " ('S_C43', 0.021744885724786091),\n",
       " ('D_C15', 0.021087332666071809),\n",
       " ('M_K76', 0.02085340761720109),\n",
       " ('M_J98', 0.020802982478283959),\n",
       " ('D_R62', 0.019422896899490377),\n",
       " ('W_I50', 0.019220495271253),\n",
       " ('I71', 0.018046032189301037),\n",
       " ('I95', 0.017816152473389271),\n",
       " ('S_E14', 0.017213199379782097),\n",
       " ('D_K55', 0.016935168249083324),\n",
       " ('M_C43', 0.015788181150110533),\n",
       " ('S_C54', 0.015718881968084217),\n",
       " ('W_R68', 0.014789917465286812),\n",
       " ('S_I62', 0.013593725726146961),\n",
       " ('C95', 0.013296286360164491),\n",
       " ('M_R09', 0.012159786411266709),\n",
       " ('S_N18', 0.011700102170211822),\n",
       " ('M_R06', 0.011498136384018615),\n",
       " ('S_R06', 0.0085936540947389294),\n",
       " ('M_R62', 0.0078008017528097178),\n",
       " ('C43', 0.0073999642211384246),\n",
       " ('M_E14', 0.0073910818336232692),\n",
       " ('S_E46', 0.0067658194089204697),\n",
       " ('D_E14', 0.0049682228903777867),\n",
       " ('S_C16', 0.0038037927380771526),\n",
       " ('D_E87', 0.0027822420976544365),\n",
       " ('D_N18', 0.0024982255492306369),\n",
       " ('M_C90', 0.002262790322218169),\n",
       " ('S_C79', 0.00063524849942338355),\n",
       " ('D_K56', 0.00011133279143052214),\n",
       " ('Other Hispanic', 0.0),\n",
       " ('Filipino', 0.0),\n",
       " ('M', 0.0),\n",
       " ('high school', -0.0),\n",
       " ('C64', 0.0),\n",
       " ('C90', 0.0),\n",
       " ('E87', 0.0),\n",
       " ('G12', 0.0),\n",
       " ('I45', -0.0),\n",
       " ('I50', -0.0),\n",
       " ('I62', 0.0),\n",
       " ('I70', -0.0),\n",
       " ('I73', -0.0),\n",
       " ('J43', 0.0),\n",
       " ('J81', 0.0),\n",
       " ('J98', 0.0),\n",
       " ('K56', -0.0),\n",
       " ('K76', 0.0),\n",
       " ('K92', 0.0),\n",
       " ('N17', 0.0),\n",
       " ('N18', 0.0),\n",
       " ('R68', -0.0),\n",
       " ('R99', 0.0),\n",
       " ('D_A41', -0.0),\n",
       " ('D_C16', -0.0),\n",
       " ('D_C18', -0.0),\n",
       " ('D_C20', -0.0),\n",
       " ('D_C22', -0.0),\n",
       " ('D_C32', -0.0),\n",
       " ('D_C43', 0.0),\n",
       " ('D_C44', -0.0),\n",
       " ('D_C50', -0.0),\n",
       " ('D_C53', -0.0),\n",
       " ('D_C54', -0.0),\n",
       " ('D_C55', -0.0),\n",
       " ('D_C61', 0.0),\n",
       " ('D_C67', -0.0),\n",
       " ('D_C71', -0.0),\n",
       " ('D_C79', -0.0),\n",
       " ('D_C80', 0.0),\n",
       " ('D_C85', -0.0),\n",
       " ('D_C91', -0.0),\n",
       " ('D_C92', -0.0),\n",
       " ('D_E86', -0.0),\n",
       " ('D_F03', 0.0),\n",
       " ('D_F10', 0.0),\n",
       " ('D_I24', 0.0),\n",
       " ('D_I26', 0.0),\n",
       " ('D_I46', -0.0),\n",
       " ('D_I51', -0.0),\n",
       " ('D_I62', 0.0),\n",
       " ('D_I70', -0.0),\n",
       " ('D_I73', 0.0),\n",
       " ('D_I95', 0.0),\n",
       " ('D_J80', 0.0),\n",
       " ('D_J84', 0.0),\n",
       " ('D_J96', -0.0),\n",
       " ('D_J98', -0.0),\n",
       " ('D_K63', -0.0),\n",
       " ('D_K70', 0.0),\n",
       " ('D_K74', -0.0),\n",
       " ('D_N39', -0.0),\n",
       " ('D_R56', -0.0),\n",
       " ('D_R64', -0.0),\n",
       " ('D_R99', -0.0),\n",
       " ('M_C25', -0.0),\n",
       " ('M_C71', -0.0),\n",
       " ('M_C78', -0.0),\n",
       " ('M_C80', -0.0),\n",
       " ('M_C83', 0.0),\n",
       " ('M_C91', -0.0),\n",
       " ('M_C92', -0.0),\n",
       " ('M_D46', 0.0),\n",
       " ('M_E86', -0.0),\n",
       " ('M_E87', 0.0),\n",
       " ('M_F10', -0.0),\n",
       " ('M_G93', 0.0),\n",
       " ('M_I21', -0.0),\n",
       " ('M_I26', -0.0),\n",
       " ('M_I42', -0.0),\n",
       " ('M_I45', -0.0),\n",
       " ('M_I46', -0.0),\n",
       " ('M_I60', 0.0),\n",
       " ('M_I61', 0.0),\n",
       " ('M_I70', 0.0),\n",
       " ('M_I73', 0.0),\n",
       " ('M_J18', -0.0),\n",
       " ('M_J69', 0.0),\n",
       " ('M_J84', -0.0),\n",
       " ('M_J96', -0.0),\n",
       " ('M_K72', -0.0),\n",
       " ('M_K74', -0.0),\n",
       " ('M_N39', -0.0),\n",
       " ('M_R56', -0.0),\n",
       " ('M_R99', 0.0),\n",
       " ('S_C18', -0.0),\n",
       " ('S_C25', 0.0),\n",
       " ('S_C49', 0.0),\n",
       " ('S_C53', 0.0),\n",
       " ('S_C61', -0.0),\n",
       " ('S_C71', 0.0),\n",
       " ('S_C78', 0.0),\n",
       " ('S_E87', -0.0),\n",
       " ('S_F03', -0.0),\n",
       " ('S_F10', 0.0),\n",
       " ('S_I21', -0.0),\n",
       " ('S_I42', 0.0),\n",
       " ('S_I46', -0.0),\n",
       " ('S_I73', 0.0),\n",
       " ('S_J18', 0.0),\n",
       " ('S_J80', 0.0),\n",
       " ('S_J84', -0.0),\n",
       " ('S_J96', -0.0),\n",
       " ('S_J98', 0.0),\n",
       " ('S_K55', 0.0),\n",
       " ('S_K56', 0.0),\n",
       " ('S_K63', 0.0),\n",
       " ('S_K76', 0.0),\n",
       " ('S_N39', -0.0),\n",
       " ('S_R56', -0.0),\n",
       " ('W_C15', -0.0),\n",
       " ('W_C18', -0.0),\n",
       " ('W_C34', 0.0),\n",
       " ('W_C43', -0.0),\n",
       " ('W_C44', 0.0),\n",
       " ('W_C49', -0.0),\n",
       " ('W_C50', 0.0),\n",
       " ('W_C56', -0.0),\n",
       " ('W_C67', 0.0),\n",
       " ('W_C90', 0.0),\n",
       " ('W_C95', -0.0),\n",
       " ('W_E14', -0.0),\n",
       " ('W_E46', -0.0),\n",
       " ('W_E86', 0.0),\n",
       " ('W_E87', -0.0),\n",
       " ('W_E88', -0.0),\n",
       " ('W_F01', -0.0),\n",
       " ('W_G20', -0.0),\n",
       " ('W_G30', -0.0),\n",
       " ('W_G31', 0.0),\n",
       " ('W_G93', 0.0),\n",
       " ('W_I10', 0.0),\n",
       " ('W_I11', -0.0),\n",
       " ('W_I21', 0.0),\n",
       " ('W_I24', -0.0),\n",
       " ('W_I25', 0.0),\n",
       " ('W_I26', -0.0),\n",
       " ('W_I27', -0.0),\n",
       " ('W_I35', 0.0),\n",
       " ('W_I47', -0.0),\n",
       " ('W_I48', 0.0),\n",
       " ('W_I49', -0.0),\n",
       " ('W_I62', -0.0),\n",
       " ('W_I63', -0.0),\n",
       " ('W_I64', -0.0),\n",
       " ('W_I67', -0.0),\n",
       " ('W_I69', -0.0),\n",
       " ('W_I71', -0.0),\n",
       " ('W_I95', -0.0),\n",
       " ('W_J15', -0.0),\n",
       " ('W_J44', -0.0),\n",
       " ('W_K55', -0.0),\n",
       " ('W_K56', -0.0),\n",
       " ('W_K76', 0.0),\n",
       " ('W_N19', -0.0),\n",
       " ('W_R06', -0.0),\n",
       " ('W_R09', -0.0),\n",
       " ('W_R53', 0.0),\n",
       " ('W_R54', 0.0),\n",
       " ('W_R57', -0.0),\n",
       " ('W_R62', -0.0),\n",
       " ('W_R64', 0.0),\n",
       " ('S_K70', -0.00032763194410035686),\n",
       " ('W_J80', -0.00038613215296940941),\n",
       " ('Vietnamese', -0.00060052725239673611),\n",
       " ('S_C83', -0.00069832740660479996),\n",
       " ('D_C83', -0.00072022079872937402),\n",
       " ('W_K92', -0.0009356545140338854),\n",
       " ('S_C15', -0.001733730329675135),\n",
       " ('D_I21', -0.0020747886823068908),\n",
       " ('D_I42', -0.0027845749712917369),\n",
       " ('S_K74', -0.003104852775244033),\n",
       " ('D_C78', -0.003865161688319753),\n",
       " ('M_J80', -0.0044068417722878941),\n",
       " ('D_C25', -0.0051317099192511144),\n",
       " ('W_I42', -0.0056872058904667826),\n",
       " ('W_I73', -0.0064086803468617172),\n",
       " ('D_I61', -0.0071942935855230615),\n",
       " ('M_K56', -0.0078915279646306884),\n",
       " ('Guamanaian', -0.0095754794743043922),\n",
       " ('D_I25', -0.0099581689364581991),\n",
       " ('D_D46', -0.010497183863806856),\n",
       " ('D_J18', -0.010812235284586883),\n",
       " ('D_I11', -0.013021798215409389),\n",
       " ('M_C85', -0.013572054016025556),\n",
       " ('W_K70', -0.013745973289944233),\n",
       " ('W_I61', -0.014481170892241008),\n",
       " ('W_I60', -0.014833678747223598),\n",
       " ('J18', -0.01485333070751008),\n",
       " ('W_C64', -0.015701914141961433),\n",
       " ('W_N39', -0.017161226620480495),\n",
       " ('W_C92', -0.017794480685160725),\n",
       " ('W_C61', -0.018096087624699692),\n",
       " ('C92', -0.019750479500249059),\n",
       " ('M_K70', -0.01995633311639557),\n",
       " ('D_J69', -0.019979329471458539),\n",
       " ('W_C78', -0.02000810977915184),\n",
       " ('D_K76', -0.020261429348142821),\n",
       " ('S_I26', -0.020701112344406008),\n",
       " ('W_J69', -0.02076642949103135),\n",
       " ('N39', -0.022214423714100009),\n",
       " ('W_C80', -0.022769882571964436),\n",
       " ('J80', -0.023171990376641763),\n",
       " ('D_K72', -0.023916301441494175),\n",
       " ('J96', -0.024377244058527911),\n",
       " ('W_J96', -0.024921568989293215),\n",
       " ('W_N18', -0.026026277009121277),\n",
       " ('M_I25', -0.028445037931774244),\n",
       " ('S_D46', -0.028945245182437088),\n",
       " ('S_I70', -0.029992083172127162),\n",
       " ('S_R64', -0.030401158774409284),\n",
       " ('W_C16', -0.030739429344972768),\n",
       " ('W_K74', -0.031069913666788192),\n",
       " ('W_I46', -0.03250060093870355),\n",
       " ('W_I70', -0.033553837367560943),\n",
       " ('D_C34', -0.034333962658227225),\n",
       " ('S_C34', -0.035324472832534912),\n",
       " ('D_I60', -0.03553826926502214),\n",
       " ('S_C50', -0.036318139602557413),\n",
       " ('S_C80', -0.036356876959925927),\n",
       " ('C83', -0.037255202120587451),\n",
       " ('W_I45', -0.037336658948046955),\n",
       " ('M_C79', -0.039062097122205021),\n",
       " ('D_G31', -0.039978889896077396),\n",
       " ('M_I50', -0.040254507586741803),\n",
       " ('Hawaiian', -0.041068138646214218),\n",
       " ('M_C61', -0.041178489176138255),\n",
       " ('S_E86', -0.041266342110007542),\n",
       " ('W_R56', -0.041348357889427215),\n",
       " ('D_I48', -0.041645779468569545),\n",
       " ('M_A41', -0.042266703735231011),\n",
       " ('M_I35', -0.044050896604105258),\n",
       " ('M_I11', -0.04405381501539956),\n",
       " ('M_C20', -0.044408685048662175),\n",
       " ('W_C91', -0.047189505467045555),\n",
       " ('M_R64', -0.050955055017120034),\n",
       " ('M_F03', -0.052337031644909958),\n",
       " ('S_I61', -0.053942332281560666),\n",
       " ('M_C34', -0.054421928483681957),\n",
       " ('W_J98', -0.055092290627747738),\n",
       " ('D_C49', -0.055156772769707117),\n",
       " ('M_G31', -0.055766283789751632),\n",
       " ('S_I51', -0.056525766826449511),\n",
       " ('M_C44', -0.057395273253818345),\n",
       " ('W_N17', -0.05891922949473017),\n",
       " ('D_I35', -0.059251495488884177),\n",
       " ('W_F10', -0.06005298478529681),\n",
       " ('I61', -0.061907556347763931),\n",
       " ('S_C92', -0.062722752249732436),\n",
       " ('W_C25', -0.062789886760185543),\n",
       " ('W_A41', -0.062819988406369875),\n",
       " ('M_K63', -0.062821515420588545),\n",
       " ('W_C71', -0.062825812387937774),\n",
       " ('W_D46', -0.063398490982828085),\n",
       " ('W_J81', -0.063481718069071963),\n",
       " ('S_R99', -0.065702018493256867),\n",
       " ('D_I50', -0.066374956862462434),\n",
       " ('C25', -0.067979677785662385),\n",
       " ('D_R54', -0.06804052284749687),\n",
       " ('W_C79', -0.06891804207339218),\n",
       " ('M_I51', -0.06909786992383013),\n",
       " ('W_C54', -0.072230249871831978),\n",
       " ('M_R54', -0.072405629073299838),\n",
       " ('W_J18', -0.074189261181131907),\n",
       " ('W_C83', -0.076469190063787981),\n",
       " ('W_C55', -0.078354131657982815),\n",
       " ('W_G12', -0.078569089871405581),\n",
       " ('C./S. American', -0.079152564875532808),\n",
       " ('S_I60', -0.079778632067486782),\n",
       " ('C85', -0.083888640559541552),\n",
       " ('I46', -0.084240628305293372),\n",
       " ('C80', -0.084579057817657788),\n",
       " ('C53', -0.086351831440863461),\n",
       " ('I26', -0.086596209596659784),\n",
       " ('M_C18', -0.089914960402804736),\n",
       " ('S_J69', -0.093285783709093378),\n",
       " ('S_C91', -0.09727836257885969),\n",
       " ('M_C32', -0.097403732633739304),\n",
       " ('I21', -0.097637258135739313),\n",
       " ('M_C22', -0.098297934374495702),\n",
       " ('M_I48', -0.098431286918115646),\n",
       " ('S_G31', -0.10080324186334304),\n",
       " ('R64', -0.10273882123561572),\n",
       " ('C71', -0.10370082282756174),\n",
       " ('W_C85', -0.10531611130911725),\n",
       " ('I42', -0.10569386658514526),\n",
       " ('W_C20', -0.10785127682370868),\n",
       " ('S_I48', -0.1101698583269442),\n",
       " ('W_K63', -0.11056322307008298),\n",
       " ('W_C53', -0.11470041550179721),\n",
       " ('E86', -0.11608440099541886),\n",
       " ('W_J84', -0.12025219926182569),\n",
       " ('Asian Indian', -0.12061748980320122),\n",
       " ('M_C15', -0.12106939788278707),\n",
       " ('W_K72', -0.12481296514799799),\n",
       " ('M_C53', -0.12601343206955315),\n",
       " ('S_I25', -0.12751371835252781),\n",
       " ('W_C22', -0.12877053784585596),\n",
       " ('S_I10', -0.13061733424188157),\n",
       " ('I48', -0.13240476357626516),\n",
       " ('J84', -0.13552334757411949),\n",
       " ('S_C67', -0.1355406950475283),\n",
       " ('Samoan', -0.13583358129423675),\n",
       " ('M_C54', -0.14122793972618072),\n",
       " ('S_C90', -0.14130172037766509),\n",
       " ('M_C67', -0.14652938953658512),\n",
       " ('Puerto Rican', -0.1534688940084247),\n",
       " ('W_F03', -0.15439639791409049),\n",
       " ('C54', -0.15498629220919688),\n",
       " ('S_I50', -0.15698097486951765),\n",
       " ('American Indian', -0.15793981582327754),\n",
       " ('C91', -0.16033986423778107),\n",
       " ('I35', -0.16069158861903104),\n",
       " ('M_R68', -0.16247489681499844),\n",
       " ('C79', -0.16481741429386565),\n",
       " ('I60', -0.17077821122754991),\n",
       " ('9 - 12th grade', -0.17476848178885512),\n",
       " ('S_C44', -0.175810764428764),\n",
       " ('D_I10', -0.18141058678773858),\n",
       " ('M_C55', -0.19201298013903439),\n",
       " ('M_C50', -0.20038005401780337),\n",
       " ('M_C16', -0.20578741917048499),\n",
       " ('R54', -0.2092787208017384),\n",
       " ('C18', -0.21342457422810016),\n",
       " ('some college', -0.21741988748873889),\n",
       " ('D_R68', -0.22122334938845897),\n",
       " ('C61', -0.23295603918725286),\n",
       " ('C34', -0.23470644736925875),\n",
       " ('S_I35', -0.24525653513462922),\n",
       " ('C15', -0.24550866970167243),\n",
       " ('Other Asian', -0.24798734047146737),\n",
       " ('R56', -0.2592278566416536),\n",
       " ('I25', -0.26316773388818027),\n",
       " ('C44', -0.26321624404787225),\n",
       " ('Associate', -0.26671365673625158),\n",
       " ('I10', -0.28082254560707615),\n",
       " ('S_R54', -0.28419357143617729),\n",
       " ('A41', -0.28970620186385954),\n",
       " ('I11', -0.29798876135993685),\n",
       " ('C16', -0.30207602601284567),\n",
       " ('C20', -0.30326421608472792),\n",
       " ('age', -0.31301870415568595),\n",
       " ('C78', -0.32120114243841602),\n",
       " ('J69', -0.32292826158139371),\n",
       " ('C55', -0.34985822064912764),\n",
       " ('C22', -0.35644102609434103),\n",
       " ('M_I10', -0.36764324681725513),\n",
       " ('I51', -0.36871238527574968),\n",
       " ('W_C32', -0.38093234760245331),\n",
       " ('F10', -0.39644166931549824),\n",
       " ('K70', -0.40596905421157586),\n",
       " ('W_J43', -0.41375452060773626),\n",
       " ('C32', -0.46797629352045161),\n",
       " ('C50', -0.48672342454703432),\n",
       " ('K72', -0.50107784784117837),\n",
       " ('K74', -0.52890745225990599),\n",
       " ('G31', -0.53335578074048429),\n",
       " ('C49', -0.56241424401792917),\n",
       " ('Mexican', -0.56573341942056177),\n",
       " ('Black', -0.58599097425759894),\n",
       " ('M_C49', -0.59766472004992355),\n",
       " ('D46', -0.62065644296727607),\n",
       " ('C67', -0.62804188272676387),\n",
       " ('K63', -0.7330740602439334),\n",
       " ('S_R68', -0.74907882183129193),\n",
       " ('F03', -0.97235056586449331),\n",
       " ('D', -1.034555978464903),\n",
       " ('S', -2.6583437510898014)]"
      ]
     },
     "execution_count": 55,
     "metadata": {},
     "output_type": "execute_result"
    }
   ],
   "source": [
    "# tie them together, then sort\n",
    "coeff_tuples = []\n",
    "for i in range(len(col_names)-1):\n",
    "    coeff_tuples.append( (col_names[i], coeffs[i]))\n",
    "# sort it\n",
    "coeff_tuples = sorted(coeff_tuples, key=lambda x:x[1], reverse=True)\n",
    "coeff_tuples"
   ]
  },
  {
   "cell_type": "markdown",
   "metadata": {},
   "source": [
    "# Simple Linear Regression"
   ]
  },
  {
   "cell_type": "code",
   "execution_count": 56,
   "metadata": {
    "collapsed": true
   },
   "outputs": [],
   "source": [
    "from sklearn import feature_selection # f_regression for getting p_values"
   ]
  },
  {
   "cell_type": "code",
   "execution_count": 58,
   "metadata": {
    "collapsed": false
   },
   "outputs": [
    {
     "data": {
      "text/plain": [
       "LinearRegression(copy_X=True, fit_intercept=True, n_jobs=1, normalize=False)"
      ]
     },
     "execution_count": 58,
     "metadata": {},
     "output_type": "execute_result"
    }
   ],
   "source": [
    "# fit the linear model\n",
    "lm = linear_model.LinearRegression()\n",
    "lm.fit(train.drop(\"age\", axis=1), train[\"age\"])"
   ]
  },
  {
   "cell_type": "code",
   "execution_count": 59,
   "metadata": {
    "collapsed": true
   },
   "outputs": [],
   "source": [
    "# get predictions\n",
    "lm_predictions = lm.predict(test.drop(\"age\", axis=1))\n",
    "lm_errors = lm_predictions - truth"
   ]
  },
  {
   "cell_type": "code",
   "execution_count": 62,
   "metadata": {
    "collapsed": false
   },
   "outputs": [
    {
     "name": "stdout",
     "output_type": "stream",
     "text": [
      "Linear MSE: 113.157454093\n",
      "Linear MAE: 8.19100795786\n",
      "25th percentile: -6.41442871094\n",
      "75th percentile: 6.71098327637\n"
     ]
    }
   ],
   "source": [
    "lm_mse = np.mean(lm_errors**2)\n",
    "lm_mae = np.mean( np.abs(lm_errors))\n",
    "lm_25 = np.percentile(lm_errors, 25)\n",
    "lm_75 = np.percentile(lm_errors, 75)\n",
    "print \"Linear MSE:\", lm_mse\n",
    "print \"Linear MAE:\", lm_mae\n",
    "print \"25th percentile:\", lm_25\n",
    "print \"75th percentile:\", lm_75"
   ]
  },
  {
   "cell_type": "code",
   "execution_count": 63,
   "metadata": {
    "collapsed": false
   },
   "outputs": [
    {
     "data": {
      "image/png": "[encoded data removed]",
      "text/plain": [
       "<matplotlib.figure.Figure at 0x119bd5150>"
      ]
     },
     "metadata": {},
     "output_type": "display_data"
    }
   ],
   "source": [
    "plt.hist(lm_errors, bins=50)\n",
    "plt.title(\"Linear Regression Errors\")\n",
    "plt.xlabel(\"Error\")\n",
    "plt.ylabel(\"Count\")\n",
    "plt.grid()\n",
    "plt.show()"
   ]
  },
  {
   "cell_type": "code",
   "execution_count": null,
   "metadata": {
    "collapsed": true
   },
   "outputs": [],
   "source": []
  },
  {
   "cell_type": "code",
   "execution_count": null,
   "metadata": {
    "collapsed": true
   },
   "outputs": [],
   "source": []
  },
  {
   "cell_type": "code",
   "execution_count": null,
   "metadata": {
    "collapsed": true
   },
   "outputs": [],
   "source": []
  },
  {
   "cell_type": "code",
   "execution_count": null,
   "metadata": {
    "collapsed": true
   },
   "outputs": [],
   "source": []
  },
  {
   "cell_type": "code",
   "execution_count": null,
   "metadata": {
    "collapsed": true
   },
   "outputs": [],
   "source": []
  },
  {
   "cell_type": "markdown",
   "metadata": {},
   "source": [
    "## Laso Second Graph Big CV"
   ]
  },
  {
   "cell_type": "code",
   "execution_count": 114,
   "metadata": {
    "collapsed": true
   },
   "outputs": [
    {
     "name": "stdout",
     "output_type": "stream",
     "text": [
      "Fitting with alpha = 1e-05\n",
      "Fitting with alpha = 0.001\n",
      "Fitting with alpha = 0.1\n",
      "Fitting with alpha = 5\n",
      "Fitting with alpha = 10\n",
      "Fitting with alpha = 50\n",
      "Fitting with alpha = 100\n",
      "Best alpha is: 1e-05\n"
     ]
    },
    {
     "ename": "ValueError",
     "evalue": "x and y must have same first dimension",
     "output_type": "error",
     "traceback": [
      "\u001b[0;31m---------------------------------------------------------------------------\u001b[0m",
      "\u001b[0;31mValueError\u001b[0m                                Traceback (most recent call last)",
      "\u001b[0;32m<ipython-input-114-93a0e8abc7ed>\u001b[0m in \u001b[0;36m<module>\u001b[0;34m()\u001b[0m\n\u001b[1;32m     23\u001b[0m \u001b[0;34m\u001b[0m\u001b[0m\n\u001b[1;32m     24\u001b[0m \u001b[0;31m# Graph Errors\u001b[0m\u001b[0;34m\u001b[0m\u001b[0;34m\u001b[0m\u001b[0m\n\u001b[0;32m---> 25\u001b[0;31m \u001b[0mplt\u001b[0m\u001b[0;34m.\u001b[0m\u001b[0mplot\u001b[0m\u001b[0;34m(\u001b[0m\u001b[0malphas\u001b[0m\u001b[0;34m,\u001b[0m \u001b[0mcv_errors\u001b[0m\u001b[0;34m)\u001b[0m\u001b[0;34m\u001b[0m\u001b[0m\n\u001b[0m\u001b[1;32m     26\u001b[0m \u001b[0mplt\u001b[0m\u001b[0;34m.\u001b[0m\u001b[0mxlabel\u001b[0m\u001b[0;34m(\u001b[0m\u001b[0;34m\"Tuning Parameter\"\u001b[0m\u001b[0;34m)\u001b[0m\u001b[0;34m\u001b[0m\u001b[0m\n\u001b[1;32m     27\u001b[0m \u001b[0mplt\u001b[0m\u001b[0;34m.\u001b[0m\u001b[0mylabel\u001b[0m\u001b[0;34m(\u001b[0m\u001b[0;34m\"Validation Error\"\u001b[0m\u001b[0;34m)\u001b[0m\u001b[0;34m\u001b[0m\u001b[0m\n",
      "\u001b[0;32m/Users/kenlipke/anaconda/lib/python2.7/site-packages/matplotlib/pyplot.pyc\u001b[0m in \u001b[0;36mplot\u001b[0;34m(*args, **kwargs)\u001b[0m\n\u001b[1;32m   3159\u001b[0m         \u001b[0max\u001b[0m\u001b[0;34m.\u001b[0m\u001b[0mhold\u001b[0m\u001b[0;34m(\u001b[0m\u001b[0mhold\u001b[0m\u001b[0;34m)\u001b[0m\u001b[0;34m\u001b[0m\u001b[0m\n\u001b[1;32m   3160\u001b[0m     \u001b[0;32mtry\u001b[0m\u001b[0;34m:\u001b[0m\u001b[0;34m\u001b[0m\u001b[0m\n\u001b[0;32m-> 3161\u001b[0;31m         \u001b[0mret\u001b[0m \u001b[0;34m=\u001b[0m \u001b[0max\u001b[0m\u001b[0;34m.\u001b[0m\u001b[0mplot\u001b[0m\u001b[0;34m(\u001b[0m\u001b[0;34m*\u001b[0m\u001b[0margs\u001b[0m\u001b[0;34m,\u001b[0m \u001b[0;34m**\u001b[0m\u001b[0mkwargs\u001b[0m\u001b[0;34m)\u001b[0m\u001b[0;34m\u001b[0m\u001b[0m\n\u001b[0m\u001b[1;32m   3162\u001b[0m     \u001b[0;32mfinally\u001b[0m\u001b[0;34m:\u001b[0m\u001b[0;34m\u001b[0m\u001b[0m\n\u001b[1;32m   3163\u001b[0m         \u001b[0max\u001b[0m\u001b[0;34m.\u001b[0m\u001b[0mhold\u001b[0m\u001b[0;34m(\u001b[0m\u001b[0mwashold\u001b[0m\u001b[0;34m)\u001b[0m\u001b[0;34m\u001b[0m\u001b[0m\n",
      "\u001b[0;32m/Users/kenlipke/anaconda/lib/python2.7/site-packages/matplotlib/__init__.pyc\u001b[0m in \u001b[0;36minner\u001b[0;34m(ax, *args, **kwargs)\u001b[0m\n\u001b[1;32m   1817\u001b[0m                     warnings.warn(msg % (label_namer, func.__name__),\n\u001b[1;32m   1818\u001b[0m                                   RuntimeWarning, stacklevel=2)\n\u001b[0;32m-> 1819\u001b[0;31m             \u001b[0;32mreturn\u001b[0m \u001b[0mfunc\u001b[0m\u001b[0;34m(\u001b[0m\u001b[0max\u001b[0m\u001b[0;34m,\u001b[0m \u001b[0;34m*\u001b[0m\u001b[0margs\u001b[0m\u001b[0;34m,\u001b[0m \u001b[0;34m**\u001b[0m\u001b[0mkwargs\u001b[0m\u001b[0;34m)\u001b[0m\u001b[0;34m\u001b[0m\u001b[0m\n\u001b[0m\u001b[1;32m   1820\u001b[0m         \u001b[0mpre_doc\u001b[0m \u001b[0;34m=\u001b[0m \u001b[0minner\u001b[0m\u001b[0;34m.\u001b[0m\u001b[0m__doc__\u001b[0m\u001b[0;34m\u001b[0m\u001b[0m\n\u001b[1;32m   1821\u001b[0m         \u001b[0;32mif\u001b[0m \u001b[0mpre_doc\u001b[0m \u001b[0;32mis\u001b[0m \u001b[0mNone\u001b[0m\u001b[0;34m:\u001b[0m\u001b[0;34m\u001b[0m\u001b[0m\n",
      "\u001b[0;32m/Users/kenlipke/anaconda/lib/python2.7/site-packages/matplotlib/axes/_axes.pyc\u001b[0m in \u001b[0;36mplot\u001b[0;34m(self, *args, **kwargs)\u001b[0m\n\u001b[1;32m   1380\u001b[0m         \u001b[0mkwargs\u001b[0m \u001b[0;34m=\u001b[0m \u001b[0mcbook\u001b[0m\u001b[0;34m.\u001b[0m\u001b[0mnormalize_kwargs\u001b[0m\u001b[0;34m(\u001b[0m\u001b[0mkwargs\u001b[0m\u001b[0;34m,\u001b[0m \u001b[0m_alias_map\u001b[0m\u001b[0;34m)\u001b[0m\u001b[0;34m\u001b[0m\u001b[0m\n\u001b[1;32m   1381\u001b[0m \u001b[0;34m\u001b[0m\u001b[0m\n\u001b[0;32m-> 1382\u001b[0;31m         \u001b[0;32mfor\u001b[0m \u001b[0mline\u001b[0m \u001b[0;32min\u001b[0m \u001b[0mself\u001b[0m\u001b[0;34m.\u001b[0m\u001b[0m_get_lines\u001b[0m\u001b[0;34m(\u001b[0m\u001b[0;34m*\u001b[0m\u001b[0margs\u001b[0m\u001b[0;34m,\u001b[0m \u001b[0;34m**\u001b[0m\u001b[0mkwargs\u001b[0m\u001b[0;34m)\u001b[0m\u001b[0;34m:\u001b[0m\u001b[0;34m\u001b[0m\u001b[0m\n\u001b[0m\u001b[1;32m   1383\u001b[0m             \u001b[0mself\u001b[0m\u001b[0;34m.\u001b[0m\u001b[0madd_line\u001b[0m\u001b[0;34m(\u001b[0m\u001b[0mline\u001b[0m\u001b[0;34m)\u001b[0m\u001b[0;34m\u001b[0m\u001b[0m\n\u001b[1;32m   1384\u001b[0m             \u001b[0mlines\u001b[0m\u001b[0;34m.\u001b[0m\u001b[0mappend\u001b[0m\u001b[0;34m(\u001b[0m\u001b[0mline\u001b[0m\u001b[0;34m)\u001b[0m\u001b[0;34m\u001b[0m\u001b[0m\n",
      "\u001b[0;32m/Users/kenlipke/anaconda/lib/python2.7/site-packages/matplotlib/axes/_base.pyc\u001b[0m in \u001b[0;36m_grab_next_args\u001b[0;34m(self, *args, **kwargs)\u001b[0m\n\u001b[1;32m    379\u001b[0m                 \u001b[0;32mreturn\u001b[0m\u001b[0;34m\u001b[0m\u001b[0m\n\u001b[1;32m    380\u001b[0m             \u001b[0;32mif\u001b[0m \u001b[0mlen\u001b[0m\u001b[0;34m(\u001b[0m\u001b[0mremaining\u001b[0m\u001b[0;34m)\u001b[0m \u001b[0;34m<=\u001b[0m \u001b[0;36m3\u001b[0m\u001b[0;34m:\u001b[0m\u001b[0;34m\u001b[0m\u001b[0m\n\u001b[0;32m--> 381\u001b[0;31m                 \u001b[0;32mfor\u001b[0m \u001b[0mseg\u001b[0m \u001b[0;32min\u001b[0m \u001b[0mself\u001b[0m\u001b[0;34m.\u001b[0m\u001b[0m_plot_args\u001b[0m\u001b[0;34m(\u001b[0m\u001b[0mremaining\u001b[0m\u001b[0;34m,\u001b[0m \u001b[0mkwargs\u001b[0m\u001b[0;34m)\u001b[0m\u001b[0;34m:\u001b[0m\u001b[0;34m\u001b[0m\u001b[0m\n\u001b[0m\u001b[1;32m    382\u001b[0m                     \u001b[0;32myield\u001b[0m \u001b[0mseg\u001b[0m\u001b[0;34m\u001b[0m\u001b[0m\n\u001b[1;32m    383\u001b[0m                 \u001b[0;32mreturn\u001b[0m\u001b[0;34m\u001b[0m\u001b[0m\n",
      "\u001b[0;32m/Users/kenlipke/anaconda/lib/python2.7/site-packages/matplotlib/axes/_base.pyc\u001b[0m in \u001b[0;36m_plot_args\u001b[0;34m(self, tup, kwargs)\u001b[0m\n\u001b[1;32m    357\u001b[0m             \u001b[0mx\u001b[0m\u001b[0;34m,\u001b[0m \u001b[0my\u001b[0m \u001b[0;34m=\u001b[0m \u001b[0mindex_of\u001b[0m\u001b[0;34m(\u001b[0m\u001b[0mtup\u001b[0m\u001b[0;34m[\u001b[0m\u001b[0;34m-\u001b[0m\u001b[0;36m1\u001b[0m\u001b[0;34m]\u001b[0m\u001b[0;34m)\u001b[0m\u001b[0;34m\u001b[0m\u001b[0m\n\u001b[1;32m    358\u001b[0m \u001b[0;34m\u001b[0m\u001b[0m\n\u001b[0;32m--> 359\u001b[0;31m         \u001b[0mx\u001b[0m\u001b[0;34m,\u001b[0m \u001b[0my\u001b[0m \u001b[0;34m=\u001b[0m \u001b[0mself\u001b[0m\u001b[0;34m.\u001b[0m\u001b[0m_xy_from_xy\u001b[0m\u001b[0;34m(\u001b[0m\u001b[0mx\u001b[0m\u001b[0;34m,\u001b[0m \u001b[0my\u001b[0m\u001b[0;34m)\u001b[0m\u001b[0;34m\u001b[0m\u001b[0m\n\u001b[0m\u001b[1;32m    360\u001b[0m \u001b[0;34m\u001b[0m\u001b[0m\n\u001b[1;32m    361\u001b[0m         \u001b[0;32mif\u001b[0m \u001b[0mself\u001b[0m\u001b[0;34m.\u001b[0m\u001b[0mcommand\u001b[0m \u001b[0;34m==\u001b[0m \u001b[0;34m'plot'\u001b[0m\u001b[0;34m:\u001b[0m\u001b[0;34m\u001b[0m\u001b[0m\n",
      "\u001b[0;32m/Users/kenlipke/anaconda/lib/python2.7/site-packages/matplotlib/axes/_base.pyc\u001b[0m in \u001b[0;36m_xy_from_xy\u001b[0;34m(self, x, y)\u001b[0m\n\u001b[1;32m    217\u001b[0m         \u001b[0my\u001b[0m \u001b[0;34m=\u001b[0m \u001b[0m_check_1d\u001b[0m\u001b[0;34m(\u001b[0m\u001b[0my\u001b[0m\u001b[0;34m)\u001b[0m\u001b[0;34m\u001b[0m\u001b[0m\n\u001b[1;32m    218\u001b[0m         \u001b[0;32mif\u001b[0m \u001b[0mx\u001b[0m\u001b[0;34m.\u001b[0m\u001b[0mshape\u001b[0m\u001b[0;34m[\u001b[0m\u001b[0;36m0\u001b[0m\u001b[0;34m]\u001b[0m \u001b[0;34m!=\u001b[0m \u001b[0my\u001b[0m\u001b[0;34m.\u001b[0m\u001b[0mshape\u001b[0m\u001b[0;34m[\u001b[0m\u001b[0;36m0\u001b[0m\u001b[0;34m]\u001b[0m\u001b[0;34m:\u001b[0m\u001b[0;34m\u001b[0m\u001b[0m\n\u001b[0;32m--> 219\u001b[0;31m             \u001b[0;32mraise\u001b[0m \u001b[0mValueError\u001b[0m\u001b[0;34m(\u001b[0m\u001b[0;34m\"x and y must have same first dimension\"\u001b[0m\u001b[0;34m)\u001b[0m\u001b[0;34m\u001b[0m\u001b[0m\n\u001b[0m\u001b[1;32m    220\u001b[0m         \u001b[0;32mif\u001b[0m \u001b[0mx\u001b[0m\u001b[0;34m.\u001b[0m\u001b[0mndim\u001b[0m \u001b[0;34m>\u001b[0m \u001b[0;36m2\u001b[0m \u001b[0;32mor\u001b[0m \u001b[0my\u001b[0m\u001b[0;34m.\u001b[0m\u001b[0mndim\u001b[0m \u001b[0;34m>\u001b[0m \u001b[0;36m2\u001b[0m\u001b[0;34m:\u001b[0m\u001b[0;34m\u001b[0m\u001b[0m\n\u001b[1;32m    221\u001b[0m             \u001b[0;32mraise\u001b[0m \u001b[0mValueError\u001b[0m\u001b[0;34m(\u001b[0m\u001b[0;34m\"x and y can be no greater than 2-D\"\u001b[0m\u001b[0;34m)\u001b[0m\u001b[0;34m\u001b[0m\u001b[0m\n",
      "\u001b[0;31mValueError\u001b[0m: x and y must have same first dimension"
     ]
    },
    {
     "data": {
      "image/png": "[encoded data removed]",
      "text/plain": [
       "<matplotlib.figure.Figure at 0x11940ccd0>"
      ]
     },
     "metadata": {},
     "output_type": "display_data"
    }
   ],
   "source": [
    "cv_errors2 = []\n",
    "min_error = np.Inf\n",
    "best_alpha = 0\n",
    "#alphas = [.01, .03, .05, .07, .09, .1, .5, 1, 1.5, 2, 3, 4, 6, 9, 10, 15, 20, 25, 30, 50, 70, 100]\n",
    "#alphas = [.006,.008, .009, .01, .011, .013, .015, .017, .02, .022]\n",
    "#alphas = [.0001, .0005, .0009, .001, .005, .009, .01, .011, .013, .015, .017, .02, .022, .025, .029, .033, .04]\n",
    "alphas = [.00001, .001, .1, 5, 10, 50, 100]\n",
    "for a in alphas:\n",
    "    print \"Fitting with alpha =\", a\n",
    "    # fit the lasso\n",
    "    l1 = linear_model.Lasso(alpha=a, max_iter=5000) #had a convergence warning\n",
    "    l1.fit(sdat[1:int(n/10)], train[\"age\"][1:int(n/10)])\n",
    "    \n",
    "    predictions = l1.predict(vdat)\n",
    "    error = np.mean((predictions - VTruth)**2)\n",
    "    cv_errors2.append(error)\n",
    "    \n",
    "    if error < min_error:\n",
    "        best_alpha = a\n",
    "        min_error = error\n",
    "        \n",
    "print \"Best alpha is:\", best_alpha\n"
   ]
  },
  {
   "cell_type": "code",
   "execution_count": 116,
   "metadata": {
    "collapsed": false
   },
   "outputs": [
    {
     "data": {
      "image/png": "[encoded data removed]",
      "text/plain": [
       "<matplotlib.figure.Figure at 0x119c73190>"
      ]
     },
     "metadata": {},
     "output_type": "display_data"
    }
   ],
   "source": [
    "\n",
    "# Graph Errors\n",
    "plt.plot(alphas, cv_errors2)\n",
    "plt.xlabel(\"Tuning Parameter\")\n",
    "plt.ylabel(\"Validation Error\")\n",
    "plt.title(\"Tuning Parameter and CV Error\")\n",
    "plt.grid()\n",
    "plt.savefig(\"Lasso_CV_Wide.png\")\n",
    "plt.show()"
   ]
  },
  {
   "cell_type": "code",
   "execution_count": null,
   "metadata": {
    "collapsed": true
   },
   "outputs": [],
   "source": []
  },
  {
   "cell_type": "code",
   "execution_count": null,
   "metadata": {
    "collapsed": true
   },
   "outputs": [],
   "source": []
  },
  {
   "cell_type": "markdown",
   "metadata": {},
   "source": [
    "# Ridge Regression"
   ]
  },
  {
   "cell_type": "code",
   "execution_count": 122,
   "metadata": {
    "collapsed": false
   },
   "outputs": [
    {
     "data": {
      "text/plain": [
       "Ridge(alpha=0.01, copy_X=True, fit_intercept=True, max_iter=None,\n",
       "   normalize=False, solver='auto', tol=0.001)"
      ]
     },
     "execution_count": 122,
     "metadata": {},
     "output_type": "execute_result"
    }
   ],
   "source": [
    "# test fit\n",
    "l2 = linear_model.Ridge(alpha=.01)\n",
    "l2.fit(sdat, train[\"age\"])"
   ]
  },
  {
   "cell_type": "code",
   "execution_count": 163,
   "metadata": {
    "collapsed": false
   },
   "outputs": [
    {
     "data": {
      "text/plain": [
       "19"
      ]
     },
     "execution_count": 163,
     "metadata": {},
     "output_type": "execute_result"
    }
   ],
   "source": [
    "len(arange(.0000002, .000002, .0000001))"
   ]
  },
  {
   "cell_type": "code",
   "execution_count": 183,
   "metadata": {
    "collapsed": false
   },
   "outputs": [
    {
     "name": "stdout",
     "output_type": "stream",
     "text": [
      "fitting with alpha:  2e-07\n",
      "fitting with alpha:  3e-07\n",
      "fitting with alpha:  4e-07\n",
      "fitting with alpha:  5e-07\n",
      "fitting with alpha:  6e-07\n",
      "fitting with alpha:  7e-07\n",
      "fitting with alpha:  8e-07\n",
      "fitting with alpha:  9e-07\n",
      "fitting with alpha:  1e-06\n",
      "fitting with alpha:  1.1e-06\n",
      "fitting with alpha:  1.2e-06\n",
      "fitting with alpha:  1.3e-06\n",
      "fitting with alpha:  1.4e-06\n",
      "fitting with alpha:  1.5e-06\n",
      "fitting with alpha:  1.6e-06\n",
      "fitting with alpha:  1.7e-06\n",
      "fitting with alpha:  1.8e-06\n",
      "fitting with alpha:  1.9e-06\n",
      "fitting with alpha:  2e-06\n",
      "best alpha is: 4e-07\n",
      "best error is: 108.954249074\n"
     ]
    }
   ],
   "source": [
    "ridge_errors = []\n",
    "best_alpha_ridge = 0\n",
    "best_error_ridge = np.inf\n",
    "r_alphas = arange(.0000002, .0000021, .0000001)\n",
    "for a in r_alphas:\n",
    "    print \"fitting with alpha: \", a\n",
    "    # fit\n",
    "    l2 = linear_model.Ridge(alpha=a)\n",
    "    l2.fit(sdat[1:int(n/5)], train[\"age\"][1:int(n/5)])\n",
    "    \n",
    "    # predictions\n",
    "    r_pred = l2.predict(vdat)\n",
    "    e = r_pred - VTruth\n",
    "    \n",
    "    #\n",
    "    r_e = np.mean( (e)**2 )\n",
    "    ridge_errors.append(r_e)\n",
    "    if r_e < best_error_ridge:\n",
    "        best_error_ridge = r_e\n",
    "        best_alpha_ridge = a   \n",
    "        \n",
    "print \"best alpha is:\", best_alpha_ridge\n",
    "print \"best error is:\", best_error_ridge"
   ]
  },
  {
   "cell_type": "code",
   "execution_count": 187,
   "metadata": {
    "collapsed": false
   },
   "outputs": [
    {
     "data": {
      "image/png": "[encoded data removed]",
      "text/plain": [
       "<matplotlib.figure.Figure at 0x1272489d0>"
      ]
     },
     "metadata": {},
     "output_type": "display_data"
    }
   ],
   "source": [
    "plt.plot(r_alphas, ridge_errors)\n",
    "plt.title(\"Ridge Tuning\")\n",
    "plt.xlabel(\"Tuning Parameter\")\n",
    "plt.ylabel(\"Validation Error\")\n",
    "plt.ticklabel_format(style='sci', axis='x', scilimits=(0,0))\n",
    "plt.grid()\n",
    "#plt.savefig(\"ridge_tuning.png\")\n",
    "plt.show()"
   ]
  },
  {
   "cell_type": "markdown",
   "metadata": {},
   "source": [
    "Fit the final model with validation param 4e-07"
   ]
  },
  {
   "cell_type": "code",
   "execution_count": 169,
   "metadata": {
    "collapsed": false
   },
   "outputs": [
    {
     "data": {
      "text/plain": [
       "1.0000004"
      ]
     },
     "execution_count": 169,
     "metadata": {},
     "output_type": "execute_result"
    }
   ],
   "source": [
    "a = 4e-07"
   ]
  },
  {
   "cell_type": "code",
   "execution_count": 170,
   "metadata": {
    "collapsed": false
   },
   "outputs": [
    {
     "data": {
      "text/plain": [
       "Ridge(alpha=1.9e-06, copy_X=True, fit_intercept=True, max_iter=None,\n",
       "   normalize=False, solver='auto', tol=0.001)"
      ]
     },
     "execution_count": 170,
     "metadata": {},
     "output_type": "execute_result"
    }
   ],
   "source": [
    "# Fit\n",
    "l2 = linear_model.Ridge(alpha = a)\n",
    "l2.fit(sdat, train[\"age\"])"
   ]
  },
  {
   "cell_type": "code",
   "execution_count": 171,
   "metadata": {
    "collapsed": true
   },
   "outputs": [],
   "source": [
    "# Predict\n",
    "ridge_prediction = l2.predict(tdat)\n",
    "ridge_error = ridge_prediction - test[\"age\"]"
   ]
  },
  {
   "cell_type": "code",
   "execution_count": 174,
   "metadata": {
    "collapsed": false
   },
   "outputs": [
    {
     "name": "stdout",
     "output_type": "stream",
     "text": [
      "Ridge MSE: 113.529229476\n",
      "Ridge MAE: 8.19403606974\n",
      "25th percentile of error -6.25810042152\n",
      "25th percentile of error 6.88682090936\n"
     ]
    }
   ],
   "source": [
    "ridge_mse = np.mean( (ridge_error)**2)\n",
    "ridge_mae = np.mean( np.abs(ridge_error))\n",
    "ridge_25 = np.percentile( ridge_error, 25)\n",
    "ridge_75 = np.percentile(ridge_error, 75)\n",
    "\n",
    "print \"Ridge MSE:\", ridge_mse\n",
    "print \"Ridge MAE:\", ridge_mae\n",
    "print \"25th percentile of error\", ridge_25\n",
    "print \"25th percentile of error\", ridge_75"
   ]
  },
  {
   "cell_type": "markdown",
   "metadata": {},
   "source": [
    "We see that when we finally fit the ridge, the low validation error we got was misleading, and we should have realized that such a small tunning paramter was saying that this was essentially best modeled by a standard linear regression."
   ]
  },
  {
   "cell_type": "code",
   "execution_count": null,
   "metadata": {
    "collapsed": true
   },
   "outputs": [],
   "source": []
  },
  {
   "cell_type": "code",
   "execution_count": null,
   "metadata": {
    "collapsed": true
   },
   "outputs": [],
   "source": []
  },
  {
   "cell_type": "code",
   "execution_count": null,
   "metadata": {
    "collapsed": true
   },
   "outputs": [],
   "source": []
  },
  {
   "cell_type": "markdown",
   "metadata": {},
   "source": [
    "# SVM "
   ]
  },
  {
   "cell_type": "code",
   "execution_count": 188,
   "metadata": {
    "collapsed": true
   },
   "outputs": [],
   "source": [
    "from sklearn import svm"
   ]
  },
  {
   "cell_type": "code",
   "execution_count": null,
   "metadata": {
    "collapsed": true
   },
   "outputs": [],
   "source": [
    "SVM = svm.SVR(C = 1)\n",
    "SVM.fit(sdat, train[\"age\"])"
   ]
  },
  {
   "cell_type": "markdown",
   "metadata": {},
   "source": [
    "The above fucked up the kernel, god damn "
   ]
  },
  {
   "cell_type": "code",
   "execution_count": null,
   "metadata": {
    "collapsed": true
   },
   "outputs": [],
   "source": []
  }
 ],
 "metadata": {
  "kernelspec": {
   "display_name": "Python [conda root]",
   "language": "python",
   "name": "conda-root-py"
  },
  "language_info": {
   "codemirror_mode": {
    "name": "ipython",
    "version": 2
   },
   "file_extension": ".py",
   "mimetype": "text/x-python",
   "name": "python",
   "nbconvert_exporter": "python",
   "pygments_lexer": "ipython2",
   "version": "2.7.12"
  }
 },
 "nbformat": 4,
 "nbformat_minor": 1
}
